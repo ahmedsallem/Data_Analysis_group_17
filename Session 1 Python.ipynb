{
 "cells": [
  {
   "cell_type": "markdown",
   "id": "e8531f7b",
   "metadata": {},
   "source": [
    "# Session one "
   ]
  },
  {
   "cell_type": "markdown",
   "id": "f872b992",
   "metadata": {},
   "source": [
    "## comment"
   ]
  },
  {
   "cell_type": "code",
   "execution_count": 1,
   "id": "0a889382",
   "metadata": {},
   "outputs": [],
   "source": [
    "# Comment"
   ]
  },
  {
   "cell_type": "code",
   "execution_count": 5,
   "id": "777d4295",
   "metadata": {},
   "outputs": [
    {
     "name": "stdout",
     "output_type": "stream",
     "text": [
      "klkd\n",
      "ahmed\n"
     ]
    }
   ],
   "source": [
    "print(\"klkd\")\n",
    "print(\"ahmed\")"
   ]
  },
  {
   "cell_type": "code",
   "execution_count": 6,
   "id": "19e93e9c",
   "metadata": {},
   "outputs": [
    {
     "data": {
      "text/plain": [
       "3"
      ]
     },
     "execution_count": 6,
     "metadata": {},
     "output_type": "execute_result"
    }
   ],
   "source": [
    "3 "
   ]
  },
  {
   "cell_type": "code",
   "execution_count": 7,
   "id": "1102c8fe",
   "metadata": {},
   "outputs": [
    {
     "data": {
      "text/plain": [
       "6"
      ]
     },
     "execution_count": 7,
     "metadata": {},
     "output_type": "execute_result"
    }
   ],
   "source": [
    "3 + 3 "
   ]
  },
  {
   "cell_type": "code",
   "execution_count": 8,
   "id": "e5df5d6f",
   "metadata": {},
   "outputs": [],
   "source": [
    "x = 10    # >> int  - +  الارقام الصحيحة "
   ]
  },
  {
   "cell_type": "code",
   "execution_count": 9,
   "id": "58d1949f",
   "metadata": {},
   "outputs": [],
   "source": [
    "y = 10.5  # >> float - + الارقام اللي فيها كسوووووووور "
   ]
  },
  {
   "cell_type": "code",
   "execution_count": 17,
   "id": "155855dd",
   "metadata": {},
   "outputs": [
    {
     "name": "stdout",
     "output_type": "stream",
     "text": [
      "10\n"
     ]
    }
   ],
   "source": [
    "print(x)"
   ]
  },
  {
   "cell_type": "code",
   "execution_count": 18,
   "id": "058b5cf9",
   "metadata": {},
   "outputs": [
    {
     "data": {
      "text/plain": [
       "int"
      ]
     },
     "execution_count": 18,
     "metadata": {},
     "output_type": "execute_result"
    }
   ],
   "source": [
    "type(x)"
   ]
  },
  {
   "cell_type": "code",
   "execution_count": 19,
   "id": "60e5258c",
   "metadata": {},
   "outputs": [
    {
     "name": "stdout",
     "output_type": "stream",
     "text": [
      "10.5\n"
     ]
    }
   ],
   "source": [
    "print(y)"
   ]
  },
  {
   "cell_type": "code",
   "execution_count": 20,
   "id": "d5f23f43",
   "metadata": {},
   "outputs": [
    {
     "data": {
      "text/plain": [
       "float"
      ]
     },
     "execution_count": 20,
     "metadata": {},
     "output_type": "execute_result"
    }
   ],
   "source": [
    "type(y)"
   ]
  },
  {
   "cell_type": "code",
   "execution_count": null,
   "id": "c8b5e639",
   "metadata": {},
   "outputs": [],
   "source": [
    "# data type \n",
    "# 10 >>> int \n",
    "# 1.0 >> float "
   ]
  },
  {
   "cell_type": "code",
   "execution_count": 23,
   "id": "c0b8a4ee",
   "metadata": {},
   "outputs": [],
   "source": [
    "x = 'ahmed'\n",
    "x = \"ahmed\"\n",
    "x = \"\"\"ahmed\n",
    "\n",
    "        \"\"\""
   ]
  },
  {
   "cell_type": "code",
   "execution_count": 24,
   "id": "a175a96c",
   "metadata": {},
   "outputs": [
    {
     "data": {
      "text/plain": [
       "\"don't\""
      ]
     },
     "execution_count": 24,
     "metadata": {},
     "output_type": "execute_result"
    }
   ],
   "source": [
    "\"don't\""
   ]
  },
  {
   "cell_type": "code",
   "execution_count": 25,
   "id": "cd42cffa",
   "metadata": {},
   "outputs": [
    {
     "data": {
      "text/plain": [
       "str"
      ]
     },
     "execution_count": 25,
     "metadata": {},
     "output_type": "execute_result"
    }
   ],
   "source": [
    "type(x)"
   ]
  },
  {
   "cell_type": "code",
   "execution_count": 26,
   "id": "b62811f6",
   "metadata": {},
   "outputs": [],
   "source": [
    "x = 10 "
   ]
  },
  {
   "cell_type": "code",
   "execution_count": 27,
   "id": "c450e04b",
   "metadata": {},
   "outputs": [
    {
     "data": {
      "text/plain": [
       "1850987905552"
      ]
     },
     "execution_count": 27,
     "metadata": {},
     "output_type": "execute_result"
    }
   ],
   "source": [
    "id(x)"
   ]
  },
  {
   "cell_type": "code",
   "execution_count": 28,
   "id": "f5f98659",
   "metadata": {},
   "outputs": [],
   "source": [
    "x = 20 "
   ]
  },
  {
   "cell_type": "code",
   "execution_count": 29,
   "id": "d43bc709",
   "metadata": {},
   "outputs": [
    {
     "data": {
      "text/plain": [
       "1850987905872"
      ]
     },
     "execution_count": 29,
     "metadata": {},
     "output_type": "execute_result"
    }
   ],
   "source": [
    "id(x)"
   ]
  },
  {
   "cell_type": "code",
   "execution_count": 30,
   "id": "17584e01",
   "metadata": {},
   "outputs": [
    {
     "name": "stdout",
     "output_type": "stream",
     "text": [
      "20\n"
     ]
    }
   ],
   "source": [
    "print(x)"
   ]
  },
  {
   "cell_type": "code",
   "execution_count": 31,
   "id": "8ebf3bca",
   "metadata": {},
   "outputs": [
    {
     "data": {
      "text/plain": [
       "int"
      ]
     },
     "execution_count": 31,
     "metadata": {},
     "output_type": "execute_result"
    }
   ],
   "source": [
    "type(x)"
   ]
  },
  {
   "cell_type": "code",
   "execution_count": 32,
   "id": "2ef909c5",
   "metadata": {},
   "outputs": [],
   "source": [
    "# number >> int , float \n",
    "# string >> str \n",
    "# bool   >> True , False "
   ]
  },
  {
   "cell_type": "code",
   "execution_count": 36,
   "id": "243d1ad8",
   "metadata": {},
   "outputs": [],
   "source": [
    "x = True    # Ture >> 1 ف العمليات الحسابية  "
   ]
  },
  {
   "cell_type": "code",
   "execution_count": 37,
   "id": "1211ab8b",
   "metadata": {},
   "outputs": [
    {
     "name": "stdout",
     "output_type": "stream",
     "text": [
      "True\n"
     ]
    }
   ],
   "source": [
    "print(x)"
   ]
  },
  {
   "cell_type": "code",
   "execution_count": 38,
   "id": "6760b579",
   "metadata": {},
   "outputs": [
    {
     "data": {
      "text/plain": [
       "bool"
      ]
     },
     "execution_count": 38,
     "metadata": {},
     "output_type": "execute_result"
    }
   ],
   "source": [
    "type(x)"
   ]
  },
  {
   "cell_type": "code",
   "execution_count": 47,
   "id": "6d8235db",
   "metadata": {},
   "outputs": [],
   "source": [
    "y = False  # False >> 0  ف العمليات الحسابية "
   ]
  },
  {
   "cell_type": "code",
   "execution_count": 48,
   "id": "c510d2f2",
   "metadata": {},
   "outputs": [
    {
     "data": {
      "text/plain": [
       "2"
      ]
     },
     "execution_count": 48,
     "metadata": {},
     "output_type": "execute_result"
    }
   ],
   "source": [
    "False + True  + True "
   ]
  },
  {
   "cell_type": "code",
   "execution_count": 49,
   "id": "7db8406b",
   "metadata": {},
   "outputs": [],
   "source": [
    "x = None "
   ]
  },
  {
   "cell_type": "code",
   "execution_count": 50,
   "id": "3329a321",
   "metadata": {},
   "outputs": [
    {
     "name": "stdout",
     "output_type": "stream",
     "text": [
      "None\n"
     ]
    }
   ],
   "source": [
    "print(x)"
   ]
  },
  {
   "cell_type": "code",
   "execution_count": 53,
   "id": "28c3e260",
   "metadata": {},
   "outputs": [],
   "source": [
    "x"
   ]
  },
  {
   "cell_type": "code",
   "execution_count": 52,
   "id": "8c581939",
   "metadata": {},
   "outputs": [
    {
     "data": {
      "text/plain": [
       "False"
      ]
     },
     "execution_count": 52,
     "metadata": {},
     "output_type": "execute_result"
    }
   ],
   "source": [
    "y"
   ]
  },
  {
   "cell_type": "code",
   "execution_count": 54,
   "id": "ccc6363f",
   "metadata": {},
   "outputs": [],
   "source": [
    "# int , float , str , bool "
   ]
  },
  {
   "cell_type": "code",
   "execution_count": 55,
   "id": "2a32fbab",
   "metadata": {},
   "outputs": [],
   "source": [
    "#           <<<<-1\n",
    "x = \"amit learning\"\n",
    "#    012345>>>>>>"
   ]
  },
  {
   "cell_type": "code",
   "execution_count": 56,
   "id": "e39a433b",
   "metadata": {},
   "outputs": [
    {
     "data": {
      "text/plain": [
       "'a'"
      ]
     },
     "execution_count": 56,
     "metadata": {},
     "output_type": "execute_result"
    }
   ],
   "source": [
    "x[0]"
   ]
  },
  {
   "cell_type": "code",
   "execution_count": 57,
   "id": "abae2e30",
   "metadata": {},
   "outputs": [
    {
     "data": {
      "text/plain": [
       "'g'"
      ]
     },
     "execution_count": 57,
     "metadata": {},
     "output_type": "execute_result"
    }
   ],
   "source": [
    "x[12]"
   ]
  },
  {
   "cell_type": "code",
   "execution_count": 58,
   "id": "ad3a5355",
   "metadata": {},
   "outputs": [
    {
     "data": {
      "text/plain": [
       "'g'"
      ]
     },
     "execution_count": 58,
     "metadata": {},
     "output_type": "execute_result"
    }
   ],
   "source": [
    "x[-1]"
   ]
  },
  {
   "cell_type": "code",
   "execution_count": 59,
   "id": "de521fa4",
   "metadata": {},
   "outputs": [
    {
     "data": {
      "text/plain": [
       "'n'"
      ]
     },
     "execution_count": 59,
     "metadata": {},
     "output_type": "execute_result"
    }
   ],
   "source": [
    "x[-2]"
   ]
  },
  {
   "cell_type": "code",
   "execution_count": 60,
   "id": "b047bc21",
   "metadata": {},
   "outputs": [
    {
     "data": {
      "text/plain": [
       "'amit'"
      ]
     },
     "execution_count": 60,
     "metadata": {},
     "output_type": "execute_result"
    }
   ],
   "source": [
    "x[0] + x[1] + x[2] + x[3]"
   ]
  },
  {
   "cell_type": "code",
   "execution_count": 61,
   "id": "3a45d63a",
   "metadata": {},
   "outputs": [
    {
     "data": {
      "text/plain": [
       "'amit learning'"
      ]
     },
     "execution_count": 61,
     "metadata": {},
     "output_type": "execute_result"
    }
   ],
   "source": [
    "# x[start = 0  : stop-1  : step = 1 ]\n",
    "x"
   ]
  },
  {
   "cell_type": "code",
   "execution_count": 63,
   "id": "8313b223",
   "metadata": {},
   "outputs": [
    {
     "data": {
      "text/plain": [
       "'amit'"
      ]
     },
     "execution_count": 63,
     "metadata": {},
     "output_type": "execute_result"
    }
   ],
   "source": [
    "x[0:4:1]"
   ]
  },
  {
   "cell_type": "code",
   "execution_count": 69,
   "id": "6aa3a90f",
   "metadata": {},
   "outputs": [
    {
     "data": {
      "text/plain": [
       "'amit learning'"
      ]
     },
     "execution_count": 69,
     "metadata": {},
     "output_type": "execute_result"
    }
   ],
   "source": [
    "x[ :  : ]"
   ]
  },
  {
   "cell_type": "code",
   "execution_count": 70,
   "id": "3099a397",
   "metadata": {},
   "outputs": [
    {
     "data": {
      "text/plain": [
       "'amit learning'"
      ]
     },
     "execution_count": 70,
     "metadata": {},
     "output_type": "execute_result"
    }
   ],
   "source": [
    "x"
   ]
  },
  {
   "cell_type": "code",
   "execution_count": 74,
   "id": "59f4f1d5",
   "metadata": {},
   "outputs": [
    {
     "data": {
      "text/plain": [
       "'gninrael tima'"
      ]
     },
     "execution_count": 74,
     "metadata": {},
     "output_type": "execute_result"
    }
   ],
   "source": [
    "# gninrael tima\n",
    "x[ : : -1]"
   ]
  },
  {
   "cell_type": "code",
   "execution_count": 75,
   "id": "f00fe7ca",
   "metadata": {},
   "outputs": [],
   "source": [
    "x = 10\n",
    "y = 10 \n",
    "z = 10 "
   ]
  },
  {
   "cell_type": "code",
   "execution_count": 76,
   "id": "c67d52d9",
   "metadata": {},
   "outputs": [],
   "source": [
    "x = y = z = 10 "
   ]
  },
  {
   "cell_type": "code",
   "execution_count": 77,
   "id": "0b68b12c",
   "metadata": {},
   "outputs": [],
   "source": [
    "x = 10\n",
    "y = 20 \n",
    "z = 30 \n",
    "x , y , z = 10 , 20 , 30 "
   ]
  },
  {
   "cell_type": "code",
   "execution_count": 78,
   "id": "18eb84ba",
   "metadata": {},
   "outputs": [
    {
     "data": {
      "text/plain": [
       "10"
      ]
     },
     "execution_count": 78,
     "metadata": {},
     "output_type": "execute_result"
    }
   ],
   "source": [
    "x"
   ]
  },
  {
   "cell_type": "code",
   "execution_count": 79,
   "id": "38680aca",
   "metadata": {},
   "outputs": [
    {
     "data": {
      "text/plain": [
       "30"
      ]
     },
     "execution_count": 79,
     "metadata": {},
     "output_type": "execute_result"
    }
   ],
   "source": [
    "z"
   ]
  },
  {
   "cell_type": "code",
   "execution_count": 80,
   "id": "47d4a920",
   "metadata": {},
   "outputs": [
    {
     "data": {
      "text/plain": [
       "10"
      ]
     },
     "execution_count": 80,
     "metadata": {},
     "output_type": "execute_result"
    }
   ],
   "source": [
    "x"
   ]
  },
  {
   "cell_type": "code",
   "execution_count": 81,
   "id": "4451451d",
   "metadata": {},
   "outputs": [],
   "source": [
    "name = \"amit learning\""
   ]
  },
  {
   "cell_type": "code",
   "execution_count": 82,
   "id": "22c86129",
   "metadata": {},
   "outputs": [
    {
     "data": {
      "text/plain": [
       "'amit learning'"
      ]
     },
     "execution_count": 82,
     "metadata": {},
     "output_type": "execute_result"
    }
   ],
   "source": [
    "name "
   ]
  },
  {
   "cell_type": "code",
   "execution_count": 84,
   "id": "56cb8c3b",
   "metadata": {},
   "outputs": [
    {
     "data": {
      "text/plain": [
       "'AMIT LEARNING'"
      ]
     },
     "execution_count": 84,
     "metadata": {},
     "output_type": "execute_result"
    }
   ],
   "source": [
    "name.upper() # هيخلي كل الحروف كابيتال "
   ]
  },
  {
   "cell_type": "code",
   "execution_count": 85,
   "id": "d9afb325",
   "metadata": {},
   "outputs": [
    {
     "data": {
      "text/plain": [
       "'amit learning'"
      ]
     },
     "execution_count": 85,
     "metadata": {},
     "output_type": "execute_result"
    }
   ],
   "source": [
    "name"
   ]
  },
  {
   "cell_type": "code",
   "execution_count": 86,
   "id": "eb46f0f6",
   "metadata": {},
   "outputs": [],
   "source": [
    "name = name.upper()"
   ]
  },
  {
   "cell_type": "code",
   "execution_count": 87,
   "id": "61b85092",
   "metadata": {},
   "outputs": [
    {
     "data": {
      "text/plain": [
       "'AMIT LEARNING'"
      ]
     },
     "execution_count": 87,
     "metadata": {},
     "output_type": "execute_result"
    }
   ],
   "source": [
    "name"
   ]
  },
  {
   "cell_type": "code",
   "execution_count": 88,
   "id": "e7c26d34",
   "metadata": {},
   "outputs": [
    {
     "data": {
      "text/plain": [
       "'amit learning'"
      ]
     },
     "execution_count": 88,
     "metadata": {},
     "output_type": "execute_result"
    }
   ],
   "source": [
    "name.lower()"
   ]
  },
  {
   "cell_type": "code",
   "execution_count": 89,
   "id": "20f1a9fb",
   "metadata": {},
   "outputs": [
    {
     "data": {
      "text/plain": [
       "'AMIT LEARNING'"
      ]
     },
     "execution_count": 89,
     "metadata": {},
     "output_type": "execute_result"
    }
   ],
   "source": [
    "name"
   ]
  },
  {
   "cell_type": "code",
   "execution_count": 90,
   "id": "5e81e398",
   "metadata": {},
   "outputs": [],
   "source": [
    "name = name.lower()"
   ]
  },
  {
   "cell_type": "code",
   "execution_count": 91,
   "id": "b5e29c95",
   "metadata": {},
   "outputs": [
    {
     "data": {
      "text/plain": [
       "'amit learning'"
      ]
     },
     "execution_count": 91,
     "metadata": {},
     "output_type": "execute_result"
    }
   ],
   "source": [
    "name"
   ]
  },
  {
   "cell_type": "code",
   "execution_count": 92,
   "id": "594fc4c0",
   "metadata": {},
   "outputs": [
    {
     "data": {
      "text/plain": [
       "'Amit Learning'"
      ]
     },
     "execution_count": 92,
     "metadata": {},
     "output_type": "execute_result"
    }
   ],
   "source": [
    "name.title()"
   ]
  },
  {
   "cell_type": "code",
   "execution_count": 93,
   "id": "1bb74891",
   "metadata": {},
   "outputs": [
    {
     "data": {
      "text/plain": [
       "'Amit Learning'"
      ]
     },
     "execution_count": 93,
     "metadata": {},
     "output_type": "execute_result"
    }
   ],
   "source": [
    "name = name.title()\n",
    "name"
   ]
  },
  {
   "cell_type": "code",
   "execution_count": 94,
   "id": "99685508",
   "metadata": {},
   "outputs": [
    {
     "data": {
      "text/plain": [
       "'Amit learning'"
      ]
     },
     "execution_count": 94,
     "metadata": {},
     "output_type": "execute_result"
    }
   ],
   "source": [
    "name.capitalize()"
   ]
  },
  {
   "cell_type": "code",
   "execution_count": 96,
   "id": "6ed14e0e",
   "metadata": {},
   "outputs": [
    {
     "data": {
      "text/plain": [
       "True"
      ]
     },
     "execution_count": 96,
     "metadata": {},
     "output_type": "execute_result"
    }
   ],
   "source": [
    "'A' in name  #  مجرد سؤال بقوله هل حرف ال A  موجود ولا لا "
   ]
  },
  {
   "cell_type": "code",
   "execution_count": 97,
   "id": "826a8056",
   "metadata": {},
   "outputs": [
    {
     "data": {
      "text/plain": [
       "False"
      ]
     },
     "execution_count": 97,
     "metadata": {},
     "output_type": "execute_result"
    }
   ],
   "source": [
    "\"B\" in name "
   ]
  },
  {
   "cell_type": "code",
   "execution_count": 99,
   "id": "3b740ea9",
   "metadata": {},
   "outputs": [
    {
     "name": "stdout",
     "output_type": "stream",
     "text": [
      "Enter your name: Ahmed\n"
     ]
    }
   ],
   "source": [
    "name = input(\"Enter your name: \")"
   ]
  },
  {
   "cell_type": "code",
   "execution_count": 100,
   "id": "9e127e9f",
   "metadata": {},
   "outputs": [
    {
     "data": {
      "text/plain": [
       "'Ahmed'"
      ]
     },
     "execution_count": 100,
     "metadata": {},
     "output_type": "execute_result"
    }
   ],
   "source": [
    "name "
   ]
  },
  {
   "cell_type": "code",
   "execution_count": 101,
   "id": "1744e439",
   "metadata": {},
   "outputs": [
    {
     "name": "stdout",
     "output_type": "stream",
     "text": [
      "Enter your age: 30\n"
     ]
    }
   ],
   "source": [
    "age = input(\"Enter your age: \")"
   ]
  },
  {
   "cell_type": "code",
   "execution_count": 102,
   "id": "950082b8",
   "metadata": {},
   "outputs": [
    {
     "data": {
      "text/plain": [
       "'30'"
      ]
     },
     "execution_count": 102,
     "metadata": {},
     "output_type": "execute_result"
    }
   ],
   "source": [
    "age"
   ]
  },
  {
   "cell_type": "code",
   "execution_count": 103,
   "id": "30066d96",
   "metadata": {},
   "outputs": [
    {
     "data": {
      "text/plain": [
       "str"
      ]
     },
     "execution_count": 103,
     "metadata": {},
     "output_type": "execute_result"
    }
   ],
   "source": [
    "type(age)"
   ]
  },
  {
   "cell_type": "code",
   "execution_count": 106,
   "id": "6eeca8cf",
   "metadata": {},
   "outputs": [],
   "source": [
    "age = int(age)"
   ]
  },
  {
   "cell_type": "code",
   "execution_count": 107,
   "id": "5bac1e35",
   "metadata": {},
   "outputs": [
    {
     "data": {
      "text/plain": [
       "int"
      ]
     },
     "execution_count": 107,
     "metadata": {},
     "output_type": "execute_result"
    }
   ],
   "source": [
    "type(age)"
   ]
  },
  {
   "cell_type": "code",
   "execution_count": 109,
   "id": "0f9c0659",
   "metadata": {},
   "outputs": [],
   "source": [
    "age = float(age)"
   ]
  },
  {
   "cell_type": "code",
   "execution_count": 110,
   "id": "95e845e5",
   "metadata": {},
   "outputs": [
    {
     "data": {
      "text/plain": [
       "float"
      ]
     },
     "execution_count": 110,
     "metadata": {},
     "output_type": "execute_result"
    }
   ],
   "source": [
    "type(age)"
   ]
  },
  {
   "cell_type": "code",
   "execution_count": 111,
   "id": "db59b0cc",
   "metadata": {},
   "outputs": [
    {
     "name": "stdout",
     "output_type": "stream",
     "text": [
      "Enter your age: 45\n"
     ]
    }
   ],
   "source": [
    "age = float(input(\"Enter your age: \"))"
   ]
  },
  {
   "cell_type": "code",
   "execution_count": 112,
   "id": "be9b5b2a",
   "metadata": {},
   "outputs": [
    {
     "data": {
      "text/plain": [
       "45.0"
      ]
     },
     "execution_count": 112,
     "metadata": {},
     "output_type": "execute_result"
    }
   ],
   "source": [
    "age"
   ]
  },
  {
   "cell_type": "code",
   "execution_count": 113,
   "id": "41a1fcd7",
   "metadata": {},
   "outputs": [
    {
     "data": {
      "text/plain": [
       "10"
      ]
     },
     "execution_count": 113,
     "metadata": {},
     "output_type": "execute_result"
    }
   ],
   "source": [
    "x"
   ]
  },
  {
   "cell_type": "code",
   "execution_count": 114,
   "id": "07232cb6",
   "metadata": {},
   "outputs": [
    {
     "data": {
      "text/plain": [
       "'Ahmed'"
      ]
     },
     "execution_count": 114,
     "metadata": {},
     "output_type": "execute_result"
    }
   ],
   "source": [
    "name"
   ]
  },
  {
   "cell_type": "code",
   "execution_count": 119,
   "id": "c04038f4",
   "metadata": {},
   "outputs": [],
   "source": [
    "name = name.replace('h' , \"7\")"
   ]
  },
  {
   "cell_type": "code",
   "execution_count": 120,
   "id": "247c7fcb",
   "metadata": {},
   "outputs": [
    {
     "data": {
      "text/plain": [
       "'A7med'"
      ]
     },
     "execution_count": 120,
     "metadata": {},
     "output_type": "execute_result"
    }
   ],
   "source": [
    "name"
   ]
  },
  {
   "cell_type": "code",
   "execution_count": 121,
   "id": "d304a6ab",
   "metadata": {},
   "outputs": [],
   "source": [
    "url = \"www.google.com\""
   ]
  },
  {
   "cell_type": "code",
   "execution_count": 122,
   "id": "6e3784a4",
   "metadata": {},
   "outputs": [
    {
     "data": {
      "text/plain": [
       "True"
      ]
     },
     "execution_count": 122,
     "metadata": {},
     "output_type": "execute_result"
    }
   ],
   "source": [
    "url.startswith(\"www\")"
   ]
  },
  {
   "cell_type": "code",
   "execution_count": 123,
   "id": "39104b47",
   "metadata": {},
   "outputs": [
    {
     "data": {
      "text/plain": [
       "False"
      ]
     },
     "execution_count": 123,
     "metadata": {},
     "output_type": "execute_result"
    }
   ],
   "source": [
    "url.startswith(\"wxy\")"
   ]
  },
  {
   "cell_type": "code",
   "execution_count": 126,
   "id": "3e861afd",
   "metadata": {},
   "outputs": [
    {
     "data": {
      "text/plain": [
       "True"
      ]
     },
     "execution_count": 126,
     "metadata": {},
     "output_type": "execute_result"
    }
   ],
   "source": [
    "url.endswith(\".com\")"
   ]
  },
  {
   "cell_type": "code",
   "execution_count": null,
   "id": "aed4ce06",
   "metadata": {},
   "outputs": [],
   "source": [
    "# recap \n",
    "# python oprators\n",
    "\n",
    "# if conditions \n",
    "\n",
    "# list \n",
    "# tuple \n",
    "# set \n",
    "# dictionary "
   ]
  }
 ],
 "metadata": {
  "kernelspec": {
   "display_name": "Python 3 (ipykernel)",
   "language": "python",
   "name": "python3"
  },
  "language_info": {
   "codemirror_mode": {
    "name": "ipython",
    "version": 3
   },
   "file_extension": ".py",
   "mimetype": "text/x-python",
   "name": "python",
   "nbconvert_exporter": "python",
   "pygments_lexer": "ipython3",
   "version": "3.10.9"
  }
 },
 "nbformat": 4,
 "nbformat_minor": 5
}
