{
 "cells": [
  {
   "cell_type": "code",
   "execution_count": 1,
   "id": "82b9484f",
   "metadata": {},
   "outputs": [],
   "source": [
    "lst = [1,2,3,4,5,5]"
   ]
  },
  {
   "cell_type": "code",
   "execution_count": 2,
   "id": "7752f22a",
   "metadata": {},
   "outputs": [
    {
     "data": {
      "text/plain": [
       "6"
      ]
     },
     "execution_count": 2,
     "metadata": {},
     "output_type": "execute_result"
    }
   ],
   "source": [
    "len(lst)"
   ]
  },
  {
   "cell_type": "code",
   "execution_count": 3,
   "id": "59630f0f",
   "metadata": {},
   "outputs": [
    {
     "data": {
      "text/plain": [
       "list"
      ]
     },
     "execution_count": 3,
     "metadata": {},
     "output_type": "execute_result"
    }
   ],
   "source": [
    "type(lst)"
   ]
  },
  {
   "cell_type": "code",
   "execution_count": 4,
   "id": "89581a2e",
   "metadata": {},
   "outputs": [
    {
     "data": {
      "text/plain": [
       "20"
      ]
     },
     "execution_count": 4,
     "metadata": {},
     "output_type": "execute_result"
    }
   ],
   "source": [
    "sum(lst)"
   ]
  },
  {
   "cell_type": "code",
   "execution_count": 5,
   "id": "7388e9db",
   "metadata": {},
   "outputs": [
    {
     "data": {
      "text/plain": [
       "1"
      ]
     },
     "execution_count": 5,
     "metadata": {},
     "output_type": "execute_result"
    }
   ],
   "source": [
    "min(lst)"
   ]
  },
  {
   "cell_type": "code",
   "execution_count": 6,
   "id": "e07665cb",
   "metadata": {},
   "outputs": [
    {
     "data": {
      "text/plain": [
       "5"
      ]
     },
     "execution_count": 6,
     "metadata": {},
     "output_type": "execute_result"
    }
   ],
   "source": [
    "max(lst)"
   ]
  },
  {
   "cell_type": "code",
   "execution_count": 7,
   "id": "c675cb64",
   "metadata": {},
   "outputs": [],
   "source": [
    "lst.append(10)"
   ]
  },
  {
   "cell_type": "code",
   "execution_count": 8,
   "id": "50f37580",
   "metadata": {},
   "outputs": [
    {
     "data": {
      "text/plain": [
       "[1, 2, 3, 4, 5, 5, 10]"
      ]
     },
     "execution_count": 8,
     "metadata": {},
     "output_type": "execute_result"
    }
   ],
   "source": [
    "lst"
   ]
  },
  {
   "cell_type": "code",
   "execution_count": 9,
   "id": "ab09bc1c",
   "metadata": {},
   "outputs": [],
   "source": [
    "lst.remove(10)"
   ]
  },
  {
   "cell_type": "code",
   "execution_count": 10,
   "id": "915470db",
   "metadata": {},
   "outputs": [
    {
     "data": {
      "text/plain": [
       "[1, 2, 3, 4, 5, 5]"
      ]
     },
     "execution_count": 10,
     "metadata": {},
     "output_type": "execute_result"
    }
   ],
   "source": [
    "lst"
   ]
  },
  {
   "cell_type": "code",
   "execution_count": 14,
   "id": "22256d92",
   "metadata": {},
   "outputs": [],
   "source": [
    "# lst.remove(10)"
   ]
  },
  {
   "cell_type": "code",
   "execution_count": 16,
   "id": "bd13132b",
   "metadata": {},
   "outputs": [
    {
     "name": "stdout",
     "output_type": "stream",
     "text": [
      "7\n",
      "<class 'tuple'>\n"
     ]
    }
   ],
   "source": [
    "# tuple \n",
    "t = (1,2,3,4,5,6,6)\n",
    "print(len(t))\n",
    "print(type(t))"
   ]
  },
  {
   "cell_type": "code",
   "execution_count": 17,
   "id": "09c84c32",
   "metadata": {},
   "outputs": [],
   "source": [
    "# immutable  غير قابلة للتعديل  variable , tuple \n",
    "# mutable قابلة للتعديل  list , set , dict"
   ]
  },
  {
   "cell_type": "code",
   "execution_count": 19,
   "id": "744263f5",
   "metadata": {},
   "outputs": [],
   "source": [
    "lst[0] = 10"
   ]
  },
  {
   "cell_type": "code",
   "execution_count": 20,
   "id": "eeecee49",
   "metadata": {},
   "outputs": [
    {
     "data": {
      "text/plain": [
       "[10, 2, 3, 4, 5, 5]"
      ]
     },
     "execution_count": 20,
     "metadata": {},
     "output_type": "execute_result"
    }
   ],
   "source": [
    "lst"
   ]
  },
  {
   "cell_type": "code",
   "execution_count": 23,
   "id": "98fd444e",
   "metadata": {},
   "outputs": [],
   "source": [
    "# t[0] = 10  # TypeError: 'tuple' object does not support item assignment"
   ]
  },
  {
   "cell_type": "code",
   "execution_count": 24,
   "id": "250d8923",
   "metadata": {},
   "outputs": [],
   "source": [
    "t_lst = list(t)"
   ]
  },
  {
   "cell_type": "code",
   "execution_count": 25,
   "id": "6f42eea6",
   "metadata": {},
   "outputs": [
    {
     "data": {
      "text/plain": [
       "[1, 2, 3, 4, 5, 6, 6]"
      ]
     },
     "execution_count": 25,
     "metadata": {},
     "output_type": "execute_result"
    }
   ],
   "source": [
    "t_lst"
   ]
  },
  {
   "cell_type": "code",
   "execution_count": 27,
   "id": "923d6c93",
   "metadata": {},
   "outputs": [],
   "source": [
    "t_lst[0] = 10"
   ]
  },
  {
   "cell_type": "code",
   "execution_count": 28,
   "id": "aa16c132",
   "metadata": {},
   "outputs": [
    {
     "data": {
      "text/plain": [
       "[10, 2, 3, 4, 5, 6, 6]"
      ]
     },
     "execution_count": 28,
     "metadata": {},
     "output_type": "execute_result"
    }
   ],
   "source": [
    "t_lst"
   ]
  },
  {
   "cell_type": "code",
   "execution_count": 29,
   "id": "4b0138a1",
   "metadata": {},
   "outputs": [],
   "source": [
    "t = tuple(t_lst)"
   ]
  },
  {
   "cell_type": "code",
   "execution_count": 30,
   "id": "a266e5db",
   "metadata": {},
   "outputs": [
    {
     "data": {
      "text/plain": [
       "(10, 2, 3, 4, 5, 6, 6)"
      ]
     },
     "execution_count": 30,
     "metadata": {},
     "output_type": "execute_result"
    }
   ],
   "source": [
    "t"
   ]
  },
  {
   "cell_type": "code",
   "execution_count": 33,
   "id": "c53b0f31",
   "metadata": {},
   "outputs": [],
   "source": [
    "# set \n",
    "s = {1,2,3,4,5,5}"
   ]
  },
  {
   "cell_type": "code",
   "execution_count": 34,
   "id": "6ac189ce",
   "metadata": {},
   "outputs": [
    {
     "data": {
      "text/plain": [
       "{1, 2, 3, 4, 5}"
      ]
     },
     "execution_count": 34,
     "metadata": {},
     "output_type": "execute_result"
    }
   ],
   "source": [
    "s"
   ]
  },
  {
   "cell_type": "code",
   "execution_count": 36,
   "id": "eaae3fb4",
   "metadata": {},
   "outputs": [],
   "source": [
    "# s[0]   # TypeError: 'set' object is not subscriptable"
   ]
  },
  {
   "cell_type": "code",
   "execution_count": 41,
   "id": "751e2018",
   "metadata": {},
   "outputs": [],
   "source": [
    "s.update((6,7))   # == lst.extend((6,7,8))"
   ]
  },
  {
   "cell_type": "code",
   "execution_count": 42,
   "id": "2c3dd77d",
   "metadata": {},
   "outputs": [
    {
     "data": {
      "text/plain": [
       "{1, 2, 3, 4, 5, 6, 7}"
      ]
     },
     "execution_count": 42,
     "metadata": {},
     "output_type": "execute_result"
    }
   ],
   "source": [
    "s"
   ]
  },
  {
   "cell_type": "code",
   "execution_count": 44,
   "id": "fa30d233",
   "metadata": {},
   "outputs": [],
   "source": [
    "# dict\n",
    "# d = { \"key\":\"value\" }\n",
    "d = {\"name\" : \"ahmed\" , \"age\" : 30 , \"address\": 123}"
   ]
  },
  {
   "cell_type": "code",
   "execution_count": 45,
   "id": "e12458d0",
   "metadata": {},
   "outputs": [
    {
     "data": {
      "text/plain": [
       "'ahmed'"
      ]
     },
     "execution_count": 45,
     "metadata": {},
     "output_type": "execute_result"
    }
   ],
   "source": [
    "d[\"name\"]"
   ]
  },
  {
   "cell_type": "code",
   "execution_count": 46,
   "id": "140175f3",
   "metadata": {},
   "outputs": [
    {
     "data": {
      "text/plain": [
       "30"
      ]
     },
     "execution_count": 46,
     "metadata": {},
     "output_type": "execute_result"
    }
   ],
   "source": [
    "d[\"age\"]"
   ]
  },
  {
   "cell_type": "code",
   "execution_count": 47,
   "id": "b17b71a6",
   "metadata": {},
   "outputs": [],
   "source": [
    "d[\"address\"] = 345"
   ]
  },
  {
   "cell_type": "code",
   "execution_count": 48,
   "id": "98123769",
   "metadata": {},
   "outputs": [
    {
     "data": {
      "text/plain": [
       "{'name': 'ahmed', 'age': 30, 'address': 345}"
      ]
     },
     "execution_count": 48,
     "metadata": {},
     "output_type": "execute_result"
    }
   ],
   "source": [
    "d"
   ]
  },
  {
   "cell_type": "code",
   "execution_count": 49,
   "id": "85a6ec09",
   "metadata": {},
   "outputs": [
    {
     "data": {
      "text/plain": [
       "'ahmed'"
      ]
     },
     "execution_count": 49,
     "metadata": {},
     "output_type": "execute_result"
    }
   ],
   "source": [
    "d.get(\"name\")"
   ]
  },
  {
   "cell_type": "code",
   "execution_count": 50,
   "id": "99b61e33",
   "metadata": {},
   "outputs": [
    {
     "data": {
      "text/plain": [
       "dict_keys(['name', 'age', 'address'])"
      ]
     },
     "execution_count": 50,
     "metadata": {},
     "output_type": "execute_result"
    }
   ],
   "source": [
    "d.keys()"
   ]
  },
  {
   "cell_type": "code",
   "execution_count": 51,
   "id": "adf8e676",
   "metadata": {},
   "outputs": [
    {
     "data": {
      "text/plain": [
       "dict_values(['ahmed', 30, 345])"
      ]
     },
     "execution_count": 51,
     "metadata": {},
     "output_type": "execute_result"
    }
   ],
   "source": [
    "d.values()"
   ]
  },
  {
   "cell_type": "code",
   "execution_count": 52,
   "id": "8422cb7a",
   "metadata": {},
   "outputs": [
    {
     "data": {
      "text/plain": [
       "{'name': 'ahmed', 'age': 30, 'address': 345}"
      ]
     },
     "execution_count": 52,
     "metadata": {},
     "output_type": "execute_result"
    }
   ],
   "source": [
    "d"
   ]
  },
  {
   "cell_type": "code",
   "execution_count": 53,
   "id": "3d577619",
   "metadata": {},
   "outputs": [],
   "source": [
    "d[\"grade\"] = 90"
   ]
  },
  {
   "cell_type": "code",
   "execution_count": 54,
   "id": "2bc9904d",
   "metadata": {},
   "outputs": [
    {
     "data": {
      "text/plain": [
       "{'name': 'ahmed', 'age': 30, 'address': 345, 'grade': 90}"
      ]
     },
     "execution_count": 54,
     "metadata": {},
     "output_type": "execute_result"
    }
   ],
   "source": [
    "d"
   ]
  },
  {
   "cell_type": "code",
   "execution_count": 55,
   "id": "4b6f7b3d",
   "metadata": {},
   "outputs": [],
   "source": [
    "d.update({\"gender\": \"male\"})"
   ]
  },
  {
   "cell_type": "code",
   "execution_count": 56,
   "id": "7f162293",
   "metadata": {},
   "outputs": [
    {
     "data": {
      "text/plain": [
       "{'name': 'ahmed', 'age': 30, 'address': 345, 'grade': 90, 'gender': 'male'}"
      ]
     },
     "execution_count": 56,
     "metadata": {},
     "output_type": "execute_result"
    }
   ],
   "source": [
    "d"
   ]
  },
  {
   "cell_type": "code",
   "execution_count": 63,
   "id": "75f3c49b",
   "metadata": {},
   "outputs": [],
   "source": [
    "d.update([(\"key\" , \"value\")])"
   ]
  },
  {
   "cell_type": "code",
   "execution_count": 64,
   "id": "a079ba88",
   "metadata": {},
   "outputs": [],
   "source": [
    "# dict([(\"key\" , \"value\") , (\"key2\" , \"value2\") , (\"key3\" , \"123\")])"
   ]
  },
  {
   "cell_type": "code",
   "execution_count": 65,
   "id": "53c8be6b",
   "metadata": {},
   "outputs": [
    {
     "data": {
      "text/plain": [
       "{'name': 'ahmed',\n",
       " 'age': 30,\n",
       " 'address': 345,\n",
       " 'grade': 90,\n",
       " 'gender': 'male',\n",
       " 'key': 'value'}"
      ]
     },
     "execution_count": 65,
     "metadata": {},
     "output_type": "execute_result"
    }
   ],
   "source": [
    "d"
   ]
  },
  {
   "cell_type": "code",
   "execution_count": 66,
   "id": "bdeb4570",
   "metadata": {},
   "outputs": [
    {
     "data": {
      "text/plain": [
       "dict_items([('name', 'ahmed'), ('age', 30), ('address', 345), ('grade', 90), ('gender', 'male'), ('key', 'value')])"
      ]
     },
     "execution_count": 66,
     "metadata": {},
     "output_type": "execute_result"
    }
   ],
   "source": [
    "d.items()"
   ]
  },
  {
   "cell_type": "code",
   "execution_count": 67,
   "id": "41ca7173",
   "metadata": {},
   "outputs": [],
   "source": [
    "# for i in   seq :\n",
    "#     statements\n",
    "#     >>>>>>>>>>\n",
    "#     >>>>>>>>>"
   ]
  },
  {
   "cell_type": "code",
   "execution_count": 69,
   "id": "f60c3d39",
   "metadata": {},
   "outputs": [],
   "source": [
    "# print(\"Amit\")\n",
    "# print(\"Amit\")\n",
    "# print(\"Amit\")\n",
    "# print(\"Amit\")\n",
    "# print(\"Amit\")"
   ]
  },
  {
   "cell_type": "code",
   "execution_count": 78,
   "id": "f0d0481d",
   "metadata": {},
   "outputs": [
    {
     "name": "stdout",
     "output_type": "stream",
     "text": [
      "0 amit\n",
      "**********\n",
      "1 amit\n",
      "**********\n",
      "2 amit\n",
      "**********\n",
      "3 amit\n",
      "**********\n",
      "4 amit\n",
      "**********\n"
     ]
    }
   ],
   "source": [
    "# range(start=0 , stop , step = 1)\n",
    "for i in range(5):   #0 >>>>> 4     i = 0 >> print(\"amit\") ,i = 1 >>print(\"amit\") , ...i = 4 >> print(\"amit\")\n",
    "    print(i , \"amit\")\n",
    "    print(\"*\" * 10)"
   ]
  },
  {
   "cell_type": "code",
   "execution_count": 74,
   "id": "8f573da8",
   "metadata": {},
   "outputs": [
    {
     "data": {
      "text/plain": [
       "[10, 15, 20, 25, 30, 10, 15, 20, 25, 30]"
      ]
     },
     "execution_count": 74,
     "metadata": {},
     "output_type": "execute_result"
    }
   ],
   "source": [
    "lst = [10,15,20,25,30]\n",
    "lst * 2 "
   ]
  },
  {
   "cell_type": "code",
   "execution_count": 85,
   "id": "fe6c1ed9",
   "metadata": {},
   "outputs": [
    {
     "name": "stdout",
     "output_type": "stream",
     "text": [
      "20\n",
      "30\n",
      "40\n",
      "50\n",
      "60\n",
      "[20, 30, 40, 50, 60]\n"
     ]
    }
   ],
   "source": [
    "lst2 = []\n",
    "for i in lst :  # i = 10 print(i) , i = 15 print(i) , ..... i = 30 print(i)\n",
    "    print(i * 2 )\n",
    "    lst2.append( i * 2 )\n",
    "print(lst2)"
   ]
  },
  {
   "cell_type": "code",
   "execution_count": 86,
   "id": "9b425854",
   "metadata": {},
   "outputs": [],
   "source": [
    "# lst2"
   ]
  },
  {
   "cell_type": "code",
   "execution_count": 87,
   "id": "a0b49ade",
   "metadata": {},
   "outputs": [],
   "source": [
    "# num = []\n",
    "# for i in range(5):\n",
    "# int(input(\"Enter your num: \"))    5 "
   ]
  },
  {
   "cell_type": "code",
   "execution_count": 90,
   "id": "f45ce3c4",
   "metadata": {},
   "outputs": [],
   "source": [
    "# num = []\n",
    "# a = int(input(\"Enter your num: \"))\n",
    "# num.append(a)\n",
    "# b = int(input(\"Enter your num: \"))\n",
    "# num.append(b)\n",
    "# c = int(input(\"Enter your num: \"))\n",
    "# num.append(c)\n",
    "# d = int(input(\"Enter your num: \"))\n",
    "# num.append(d)\n",
    "# e = int(input(\"Enter your num: \"))\n",
    "# num.append(e)"
   ]
  },
  {
   "cell_type": "code",
   "execution_count": 91,
   "id": "1544a4ba",
   "metadata": {},
   "outputs": [],
   "source": [
    "# num"
   ]
  },
  {
   "cell_type": "code",
   "execution_count": 95,
   "id": "930eb657",
   "metadata": {},
   "outputs": [
    {
     "name": "stdout",
     "output_type": "stream",
     "text": [
      "Enter your num: 12\n",
      "Enter your num: 12\n",
      "Enter your num: 12\n",
      "Enter your num: 12\n",
      "Enter your num: 12\n"
     ]
    }
   ],
   "source": [
    "num = []\n",
    "for i in range(5):\n",
    "    a = int(input(\"Enter your num: \"))\n",
    "    num.append(a)"
   ]
  },
  {
   "cell_type": "code",
   "execution_count": 97,
   "id": "95e4efe3",
   "metadata": {},
   "outputs": [
    {
     "data": {
      "text/plain": [
       "[12, 12, 12, 12, 12]"
      ]
     },
     "execution_count": 97,
     "metadata": {},
     "output_type": "execute_result"
    }
   ],
   "source": [
    "num"
   ]
  },
  {
   "cell_type": "code",
   "execution_count": 98,
   "id": "216e62c1",
   "metadata": {},
   "outputs": [
    {
     "name": "stdout",
     "output_type": "stream",
     "text": [
      "Enter len of your lst: 3\n",
      "Enter your num: 12\n",
      "Enter your num: 13\n",
      "Enter your num: 14\n"
     ]
    }
   ],
   "source": [
    "x = int(input(\"Enter len of your lst: \"))\n",
    "num = []\n",
    "for i in range(x):\n",
    "    a = int(input(\"Enter your num: \"))\n",
    "    num.append(a)"
   ]
  },
  {
   "cell_type": "code",
   "execution_count": 99,
   "id": "aafeeca3",
   "metadata": {},
   "outputs": [
    {
     "data": {
      "text/plain": [
       "[12, 13, 14]"
      ]
     },
     "execution_count": 99,
     "metadata": {},
     "output_type": "execute_result"
    }
   ],
   "source": [
    "num"
   ]
  },
  {
   "cell_type": "code",
   "execution_count": 101,
   "id": "7986bc06",
   "metadata": {},
   "outputs": [],
   "source": [
    "d = {'name': 'ahmed', 'age': 30, 'address': 345, 'grade': 90, 'gender': 'male'}"
   ]
  },
  {
   "cell_type": "code",
   "execution_count": 102,
   "id": "3bb43f4e",
   "metadata": {},
   "outputs": [
    {
     "data": {
      "text/plain": [
       "dict_keys(['name', 'age', 'address', 'grade', 'gender'])"
      ]
     },
     "execution_count": 102,
     "metadata": {},
     "output_type": "execute_result"
    }
   ],
   "source": [
    "d.keys()"
   ]
  },
  {
   "cell_type": "code",
   "execution_count": 103,
   "id": "ce62c60d",
   "metadata": {},
   "outputs": [
    {
     "data": {
      "text/plain": [
       "dict_values(['ahmed', 30, 345, 90, 'male'])"
      ]
     },
     "execution_count": 103,
     "metadata": {},
     "output_type": "execute_result"
    }
   ],
   "source": [
    "d.values()"
   ]
  },
  {
   "cell_type": "code",
   "execution_count": 104,
   "id": "74d74792",
   "metadata": {},
   "outputs": [
    {
     "data": {
      "text/plain": [
       "dict_items([('name', 'ahmed'), ('age', 30), ('address', 345), ('grade', 90), ('gender', 'male')])"
      ]
     },
     "execution_count": 104,
     "metadata": {},
     "output_type": "execute_result"
    }
   ],
   "source": [
    "d.items()"
   ]
  },
  {
   "cell_type": "code",
   "execution_count": 105,
   "id": "a966b0a0",
   "metadata": {},
   "outputs": [
    {
     "name": "stdout",
     "output_type": "stream",
     "text": [
      "name >> ahmed\n",
      "age  >> 30\n"
     ]
    }
   ],
   "source": [
    "print(\"name >> ahmed\")\n",
    "print(\"age  >> 30\")"
   ]
  },
  {
   "cell_type": "code",
   "execution_count": 120,
   "id": "a254a579",
   "metadata": {},
   "outputs": [
    {
     "name": "stdout",
     "output_type": "stream",
     "text": [
      "name >> ahmed\n",
      "age >> 30\n",
      "address >> 345\n",
      "grade >> 90\n",
      "gender >> male\n"
     ]
    }
   ],
   "source": [
    "for i in d.keys(): \n",
    "    print(f\"{i} >> {d[i]}\")"
   ]
  },
  {
   "cell_type": "code",
   "execution_count": 117,
   "id": "8ae46d53",
   "metadata": {},
   "outputs": [
    {
     "data": {
      "text/plain": [
       "'ahmed'"
      ]
     },
     "execution_count": 117,
     "metadata": {},
     "output_type": "execute_result"
    }
   ],
   "source": [
    "d[i]"
   ]
  },
  {
   "cell_type": "code",
   "execution_count": 110,
   "id": "09e0bf3c",
   "metadata": {},
   "outputs": [
    {
     "data": {
      "text/plain": [
       "dict_items([('name', 'ahmed'), ('age', 30), ('address', 345), ('grade', 90), ('gender', 'male')])"
      ]
     },
     "execution_count": 110,
     "metadata": {},
     "output_type": "execute_result"
    }
   ],
   "source": [
    "d.items()"
   ]
  },
  {
   "cell_type": "code",
   "execution_count": 121,
   "id": "97a51eea",
   "metadata": {},
   "outputs": [
    {
     "name": "stdout",
     "output_type": "stream",
     "text": [
      "name >> ahmed\n",
      "age >> 30\n",
      "address >> 345\n",
      "grade >> 90\n",
      "gender >> male\n"
     ]
    }
   ],
   "source": [
    "for i in d.items() : \n",
    "    print(f\"{i[0]} >> {i[1]}\")"
   ]
  },
  {
   "cell_type": "code",
   "execution_count": 124,
   "id": "7309fe44",
   "metadata": {},
   "outputs": [
    {
     "data": {
      "text/plain": [
       "6"
      ]
     },
     "execution_count": 124,
     "metadata": {},
     "output_type": "execute_result"
    }
   ],
   "source": [
    "lst = [1,2,3]\n",
    "sum(lst)"
   ]
  },
  {
   "cell_type": "code",
   "execution_count": 132,
   "id": "8e7b4fb7",
   "metadata": {},
   "outputs": [
    {
     "name": "stdout",
     "output_type": "stream",
     "text": [
      "s = 0 , i = 1\n",
      "s = 0 + 1 = 1 \n",
      "s = 1 , i = 2\n",
      "s = 1 + 2 = 3 \n",
      "s = 3 , i = 3\n",
      "s = 3 + 3 = 6 \n"
     ]
    }
   ],
   "source": [
    "s = 0\n",
    "for i in lst : \n",
    "    print(f\"s = {s} , i = {i}\")\n",
    "    print(f\"s = {s} + {i} = {s + i} \")\n",
    "    s = s + i "
   ]
  },
  {
   "cell_type": "code",
   "execution_count": 134,
   "id": "5c1ca0a7",
   "metadata": {},
   "outputs": [
    {
     "name": "stdout",
     "output_type": "stream",
     "text": [
      "[2, 4, 6]\n"
     ]
    }
   ],
   "source": [
    "lst2 = []\n",
    "for i in lst :  # i = 10 print(i) , i = 15 print(i) , ..... i = 30 print(i)\n",
    "#     print(i * 2 )\n",
    "    lst2.append( i * 2 )\n",
    "print(lst2)"
   ]
  },
  {
   "cell_type": "code",
   "execution_count": 135,
   "id": "3991c6bc",
   "metadata": {},
   "outputs": [
    {
     "data": {
      "text/plain": [
       "[2, 4, 6]"
      ]
     },
     "execution_count": 135,
     "metadata": {},
     "output_type": "execute_result"
    }
   ],
   "source": [
    "[ i * 2  for i in lst]"
   ]
  },
  {
   "cell_type": "code",
   "execution_count": 136,
   "id": "b7eca33e",
   "metadata": {},
   "outputs": [
    {
     "name": "stdout",
     "output_type": "stream",
     "text": [
      "Even\n"
     ]
    }
   ],
   "source": [
    "if 4 % 2 == 0:\n",
    "    print(\"Even\")\n",
    "else:\n",
    "    print(\"Odd\")"
   ]
  },
  {
   "cell_type": "code",
   "execution_count": 137,
   "id": "93a72f75",
   "metadata": {},
   "outputs": [
    {
     "name": "stdout",
     "output_type": "stream",
     "text": [
      "Even\n"
     ]
    }
   ],
   "source": [
    "print(\"Even\") if 4 % 2 == 0  else print(\"Odd\")"
   ]
  },
  {
   "cell_type": "code",
   "execution_count": 142,
   "id": "4d4d5f35",
   "metadata": {},
   "outputs": [],
   "source": [
    "lst = [1,2,3,4,2]"
   ]
  },
  {
   "cell_type": "code",
   "execution_count": 143,
   "id": "959802b7",
   "metadata": {},
   "outputs": [
    {
     "data": {
      "text/plain": [
       "['Odd', 'Even', 'Odd', 'Even', 'Even']"
      ]
     },
     "execution_count": 143,
     "metadata": {},
     "output_type": "execute_result"
    }
   ],
   "source": [
    "[ \"Even\" if i % 2 == 0  else \"Odd\" for i in lst ]"
   ]
  },
  {
   "cell_type": "code",
   "execution_count": 145,
   "id": "19ac1853",
   "metadata": {},
   "outputs": [],
   "source": [
    "# 3 % 2 "
   ]
  },
  {
   "cell_type": "code",
   "execution_count": 147,
   "id": "a496311a",
   "metadata": {},
   "outputs": [],
   "source": [
    "lst = [(1,2,3), (2,3,4) , (3,4,5)]   # 100    (1,2) + (100,)"
   ]
  },
  {
   "cell_type": "code",
   "execution_count": 156,
   "id": "567f5135",
   "metadata": {},
   "outputs": [
    {
     "data": {
      "text/plain": [
       "[(1, 2, 100), (2, 3, 100), (3, 4, 100)]"
      ]
     },
     "execution_count": 156,
     "metadata": {},
     "output_type": "execute_result"
    }
   ],
   "source": [
    "[ i[0:2] + (100,) for i in lst]"
   ]
  },
  {
   "cell_type": "code",
   "execution_count": 163,
   "id": "c74bdb47",
   "metadata": {},
   "outputs": [],
   "source": [
    "lst = [(1,2,3,10), (2,3) , (3,4,5,3,4)]"
   ]
  },
  {
   "cell_type": "code",
   "execution_count": 158,
   "id": "4633ec71",
   "metadata": {},
   "outputs": [],
   "source": [
    "# t = (1,2,3)\n",
    "# t[2] = 100"
   ]
  },
  {
   "cell_type": "code",
   "execution_count": 165,
   "id": "cad08117",
   "metadata": {},
   "outputs": [
    {
     "data": {
      "text/plain": [
       "[(1, 2, 3, 100), (2, 100), (3, 4, 5, 3, 100)]"
      ]
     },
     "execution_count": 165,
     "metadata": {},
     "output_type": "execute_result"
    }
   ],
   "source": [
    "[ i[0:-1] + (100,) for i in lst]"
   ]
  },
  {
   "cell_type": "code",
   "execution_count": 166,
   "id": "c0d4c153",
   "metadata": {},
   "outputs": [],
   "source": [
    "# x = 0 \n",
    "# while condition :\n",
    "#     statements\n",
    "#     .............\n",
    "#     ..........\n",
    "#     counter+1"
   ]
  },
  {
   "cell_type": "code",
   "execution_count": 167,
   "id": "67bf61cd",
   "metadata": {},
   "outputs": [
    {
     "name": "stdout",
     "output_type": "stream",
     "text": [
      "0 Amit\n",
      "1 Amit\n",
      "2 Amit\n",
      "3 Amit\n",
      "4 Amit\n",
      "5 Amit\n",
      "6 Amit\n",
      "7 Amit\n",
      "8 Amit\n",
      "9 Amit\n",
      "10 Amit\n"
     ]
    }
   ],
   "source": [
    "x = 0 \n",
    "while x <= 10:  #  x = 0  , x = 1 ...... x = 11(condition => False)  \n",
    "    print( x , \"Amit\")\n",
    "    x += 1  # x = x + 1    "
   ]
  },
  {
   "cell_type": "code",
   "execution_count": 172,
   "id": "3d63ae05",
   "metadata": {},
   "outputs": [
    {
     "name": "stdout",
     "output_type": "stream",
     "text": [
      "1\n",
      "2\n"
     ]
    }
   ],
   "source": [
    "lst = [1,2,3,4,5]\n",
    "for i in lst:\n",
    "    if i == 3 :  #i == 3 >> True \n",
    "        break\n",
    "        print(i)\n",
    "    else:\n",
    "        print(i)"
   ]
  },
  {
   "cell_type": "code",
   "execution_count": 176,
   "id": "d81ce2d6",
   "metadata": {},
   "outputs": [
    {
     "name": "stdout",
     "output_type": "stream",
     "text": [
      "1\n",
      "2\n",
      "4\n",
      "5\n"
     ]
    }
   ],
   "source": [
    "lst = [1,2,3,4,5]\n",
    "for i in lst:\n",
    "    if i == 3 :  #i == 3 >> True \n",
    "        continue\n",
    "        print(i)\n",
    "    else:\n",
    "        print(i)"
   ]
  },
  {
   "cell_type": "code",
   "execution_count": 180,
   "id": "d25f27fd",
   "metadata": {},
   "outputs": [
    {
     "name": "stdout",
     "output_type": "stream",
     "text": [
      "1\n",
      "2\n",
      "3\n",
      "4\n",
      "5\n"
     ]
    }
   ],
   "source": [
    "lst = [1,2,3,4,5]\n",
    "for i in lst:\n",
    "    if i == 3 : \n",
    "        pass\n",
    "        print(i)\n",
    "    else:\n",
    "        print(i)"
   ]
  },
  {
   "cell_type": "code",
   "execution_count": 181,
   "id": "549f1a85",
   "metadata": {},
   "outputs": [],
   "source": [
    "# functions\n",
    "# scope\n",
    "# Error handling"
   ]
  },
  {
   "cell_type": "code",
   "execution_count": 182,
   "id": "1fe9dbf5",
   "metadata": {},
   "outputs": [],
   "source": [
    "# def fun_name():\n",
    "#     statements\n",
    "#     .......\n",
    "#     ......\n",
    "#     .....\n",
    "#     ......\n",
    "#     ........\n",
    "#     return var\n",
    "# fun_name()  calling"
   ]
  },
  {
   "cell_type": "code",
   "execution_count": 185,
   "id": "b5f1b5bd",
   "metadata": {},
   "outputs": [],
   "source": [
    "def say_hello():\n",
    "    print(\"Hello\")"
   ]
  },
  {
   "cell_type": "code",
   "execution_count": 186,
   "id": "5d7db936",
   "metadata": {},
   "outputs": [
    {
     "name": "stdout",
     "output_type": "stream",
     "text": [
      "Hello\n"
     ]
    }
   ],
   "source": [
    "x = say_hello()"
   ]
  },
  {
   "cell_type": "code",
   "execution_count": 187,
   "id": "2df9803b",
   "metadata": {},
   "outputs": [],
   "source": [
    "x"
   ]
  },
  {
   "cell_type": "code",
   "execution_count": 188,
   "id": "3d4e56f2",
   "metadata": {},
   "outputs": [],
   "source": [
    "def say_hello():\n",
    "    return \"Hello\""
   ]
  },
  {
   "cell_type": "code",
   "execution_count": 190,
   "id": "a200c617",
   "metadata": {},
   "outputs": [],
   "source": [
    "y = say_hello()"
   ]
  },
  {
   "cell_type": "code",
   "execution_count": 191,
   "id": "69874416",
   "metadata": {},
   "outputs": [
    {
     "data": {
      "text/plain": [
       "'Hello'"
      ]
     },
     "execution_count": 191,
     "metadata": {},
     "output_type": "execute_result"
    }
   ],
   "source": [
    "y"
   ]
  },
  {
   "cell_type": "code",
   "execution_count": 206,
   "id": "eb53d357",
   "metadata": {},
   "outputs": [],
   "source": [
    "def say_hello(name = \"Amit\"):\n",
    "    print(\"Hello\" , name)"
   ]
  },
  {
   "cell_type": "code",
   "execution_count": 207,
   "id": "eb825514",
   "metadata": {},
   "outputs": [
    {
     "name": "stdout",
     "output_type": "stream",
     "text": [
      "Hello Ahmed\n"
     ]
    }
   ],
   "source": [
    "say_hello(\"Ahmed\")"
   ]
  },
  {
   "cell_type": "code",
   "execution_count": 208,
   "id": "9868733f",
   "metadata": {},
   "outputs": [
    {
     "name": "stdout",
     "output_type": "stream",
     "text": [
      "Hello Mo\n"
     ]
    }
   ],
   "source": [
    "say_hello(\"Mo\")"
   ]
  },
  {
   "cell_type": "code",
   "execution_count": 209,
   "id": "22cce4f4",
   "metadata": {},
   "outputs": [
    {
     "name": "stdout",
     "output_type": "stream",
     "text": [
      "Hello Amit\n"
     ]
    }
   ],
   "source": [
    "say_hello()"
   ]
  },
  {
   "cell_type": "code",
   "execution_count": 216,
   "id": "e42fcb2d",
   "metadata": {},
   "outputs": [],
   "source": [
    "def add(n1 , n2  , n3):\n",
    "      return n1 + n2 + n3"
   ]
  },
  {
   "cell_type": "code",
   "execution_count": 219,
   "id": "f7b6146e",
   "metadata": {},
   "outputs": [
    {
     "data": {
      "text/plain": [
       "13"
      ]
     },
     "execution_count": 219,
     "metadata": {},
     "output_type": "execute_result"
    }
   ],
   "source": [
    "add(1,2,10)"
   ]
  },
  {
   "cell_type": "code",
   "execution_count": 223,
   "id": "87673760",
   "metadata": {},
   "outputs": [],
   "source": [
    "def add(*n):\n",
    "    s = 0 \n",
    "    for i in n :\n",
    "        s = s + i \n",
    "    return s"
   ]
  },
  {
   "cell_type": "code",
   "execution_count": 224,
   "id": "a3331716",
   "metadata": {},
   "outputs": [
    {
     "data": {
      "text/plain": [
       "3"
      ]
     },
     "execution_count": 224,
     "metadata": {},
     "output_type": "execute_result"
    }
   ],
   "source": [
    "add(1,2)"
   ]
  },
  {
   "cell_type": "code",
   "execution_count": 225,
   "id": "50948f8f",
   "metadata": {},
   "outputs": [
    {
     "data": {
      "text/plain": [
       "45"
      ]
     },
     "execution_count": 225,
     "metadata": {},
     "output_type": "execute_result"
    }
   ],
   "source": [
    "add(1,2,3,4,5,6,7,8,9)"
   ]
  },
  {
   "cell_type": "code",
   "execution_count": 226,
   "id": "f6c728c9",
   "metadata": {},
   "outputs": [
    {
     "data": {
      "text/plain": [
       "6"
      ]
     },
     "execution_count": 226,
     "metadata": {},
     "output_type": "execute_result"
    }
   ],
   "source": [
    "add(1,2,3)"
   ]
  },
  {
   "cell_type": "code",
   "execution_count": 227,
   "id": "0a67e5d9",
   "metadata": {},
   "outputs": [],
   "source": [
    "def add(l):\n",
    "    s = 0 \n",
    "    for i in l :\n",
    "        s = s + i \n",
    "    return s    "
   ]
  },
  {
   "cell_type": "code",
   "execution_count": 229,
   "id": "d6a34ad1",
   "metadata": {},
   "outputs": [
    {
     "data": {
      "text/plain": [
       "10"
      ]
     },
     "execution_count": 229,
     "metadata": {},
     "output_type": "execute_result"
    }
   ],
   "source": [
    "add([1,2,3,4])"
   ]
  },
  {
   "cell_type": "code",
   "execution_count": 230,
   "id": "ad40f182",
   "metadata": {},
   "outputs": [],
   "source": [
    "# check(10) >> Even\n",
    "# check(11) >> Odd"
   ]
  },
  {
   "cell_type": "code",
   "execution_count": 231,
   "id": "cddb46c7",
   "metadata": {},
   "outputs": [],
   "source": [
    "def check(num):\n",
    "    if num % 2 == 0 :\n",
    "        return \"Even\"\n",
    "    else:\n",
    "        return \"Odd\""
   ]
  },
  {
   "cell_type": "code",
   "execution_count": 232,
   "id": "90b3b246",
   "metadata": {},
   "outputs": [
    {
     "data": {
      "text/plain": [
       "'Odd'"
      ]
     },
     "execution_count": 232,
     "metadata": {},
     "output_type": "execute_result"
    }
   ],
   "source": [
    "check(19)"
   ]
  },
  {
   "cell_type": "code",
   "execution_count": 233,
   "id": "8113a44a",
   "metadata": {},
   "outputs": [
    {
     "data": {
      "text/plain": [
       "'Even'"
      ]
     },
     "execution_count": 233,
     "metadata": {},
     "output_type": "execute_result"
    }
   ],
   "source": [
    "check(20)"
   ]
  },
  {
   "cell_type": "code",
   "execution_count": 236,
   "id": "2502d0a3",
   "metadata": {},
   "outputs": [
    {
     "data": {
      "text/plain": [
       "['Odd', 'Even', 'Odd', 'Even', 'Odd', 'Even', 'Odd', 'Even', 'Odd', 'Even']"
      ]
     },
     "execution_count": 236,
     "metadata": {},
     "output_type": "execute_result"
    }
   ],
   "source": [
    "lst = [1,2,3,4,5,6,7,8,9,10]\n",
    "# list(map(fun , seq))\n",
    "list(map(check , lst))"
   ]
  },
  {
   "cell_type": "code",
   "execution_count": 237,
   "id": "595a788e",
   "metadata": {},
   "outputs": [],
   "source": [
    "def even(num):\n",
    "    if num % 2 == 0 :\n",
    "        return True\n",
    "    else:\n",
    "        return False"
   ]
  },
  {
   "cell_type": "code",
   "execution_count": 238,
   "id": "028dd83c",
   "metadata": {},
   "outputs": [
    {
     "data": {
      "text/plain": [
       "[False, True, False, True, False, True, False, True, False, True]"
      ]
     },
     "execution_count": 238,
     "metadata": {},
     "output_type": "execute_result"
    }
   ],
   "source": [
    "lst = [1,2,3,4,5,6,7,8,9,10]\n",
    "\n",
    "list(map(even , lst))"
   ]
  },
  {
   "cell_type": "code",
   "execution_count": 239,
   "id": "9dd02768",
   "metadata": {},
   "outputs": [
    {
     "data": {
      "text/plain": [
       "[2, 4, 6, 8, 10]"
      ]
     },
     "execution_count": 239,
     "metadata": {},
     "output_type": "execute_result"
    }
   ],
   "source": [
    "list(filter(even , lst))"
   ]
  },
  {
   "cell_type": "code",
   "execution_count": 240,
   "id": "ed8244bc",
   "metadata": {},
   "outputs": [],
   "source": [
    "def odd(num):\n",
    "    if num % 2 != 0 :\n",
    "        return True \n",
    "    else:\n",
    "        return False "
   ]
  },
  {
   "cell_type": "code",
   "execution_count": 241,
   "id": "86e708bd",
   "metadata": {},
   "outputs": [
    {
     "data": {
      "text/plain": [
       "[True, False, True, False, True, False, True, False, True, False]"
      ]
     },
     "execution_count": 241,
     "metadata": {},
     "output_type": "execute_result"
    }
   ],
   "source": [
    "lst = [1,2,3,4,5,6,7,8,9,10]\n",
    "\n",
    "list(map(odd , lst))"
   ]
  },
  {
   "cell_type": "code",
   "execution_count": 242,
   "id": "1179f91a",
   "metadata": {},
   "outputs": [
    {
     "data": {
      "text/plain": [
       "[1, 3, 5, 7, 9]"
      ]
     },
     "execution_count": 242,
     "metadata": {},
     "output_type": "execute_result"
    }
   ],
   "source": [
    "list(filter(odd , lst))"
   ]
  },
  {
   "cell_type": "code",
   "execution_count": 245,
   "id": "43cd4d17",
   "metadata": {},
   "outputs": [
    {
     "name": "stdout",
     "output_type": "stream",
     "text": [
      "x not in list\n",
      "amit\n"
     ]
    }
   ],
   "source": [
    "lst = [1,2,3,4]\n",
    "try:\n",
    "    lst.remove(10)\n",
    "except:\n",
    "    print(\"x not in list\")\n",
    "    \n",
    "print(\"amit\")"
   ]
  },
  {
   "cell_type": "code",
   "execution_count": 250,
   "id": "e74d05cd",
   "metadata": {},
   "outputs": [
    {
     "name": "stdout",
     "output_type": "stream",
     "text": [
      "Error: list.remove(x): x not in list\n"
     ]
    }
   ],
   "source": [
    "lst = [1,2,3,4]\n",
    "try:\n",
    "    lst.remove(10)\n",
    "except Exception as e:\n",
    "    print(\"Error:\" , e )"
   ]
  },
  {
   "cell_type": "code",
   "execution_count": 256,
   "id": "c18ac1f8",
   "metadata": {},
   "outputs": [
    {
     "name": "stdout",
     "output_type": "stream",
     "text": [
      "Error\n",
      "[2, 3, 4]\n"
     ]
    }
   ],
   "source": [
    "try:\n",
    "    lst.remove(1)\n",
    "    print(lst)\n",
    "except:\n",
    "    print(\"Error\")\n",
    "    print(lst)"
   ]
  },
  {
   "cell_type": "code",
   "execution_count": 258,
   "id": "c2c5cef4",
   "metadata": {},
   "outputs": [
    {
     "name": "stdout",
     "output_type": "stream",
     "text": [
      "Local\n",
      "Global\n"
     ]
    }
   ],
   "source": [
    "x = \"Global\"\n",
    "def outer():\n",
    "    x = \"Local\"\n",
    "    print(x)\n",
    "outer()\n",
    "print(x)"
   ]
  },
  {
   "cell_type": "code",
   "execution_count": 261,
   "id": "0f39885e",
   "metadata": {},
   "outputs": [
    {
     "name": "stdout",
     "output_type": "stream",
     "text": [
      "Global\n",
      "Local\n",
      "Local\n"
     ]
    }
   ],
   "source": [
    "x = \"Global\"\n",
    "print(x)\n",
    "def outer():\n",
    "    global x \n",
    "    x = \"Local\"\n",
    "    print(x)\n",
    "outer()\n",
    "print(x)"
   ]
  },
  {
   "cell_type": "code",
   "execution_count": 260,
   "id": "4ffb97b4",
   "metadata": {},
   "outputs": [
    {
     "name": "stdout",
     "output_type": "stream",
     "text": [
      "Local\n"
     ]
    }
   ],
   "source": [
    "x = \"global\"\n",
    "x = \"Local\"\n",
    "print(x)"
   ]
  },
  {
   "cell_type": "code",
   "execution_count": 270,
   "id": "81658e50",
   "metadata": {},
   "outputs": [],
   "source": [
    "# def outer():\n",
    "#     global y \n",
    "#     y = \"local\"\n",
    "#     print(y)\n",
    "# outer()"
   ]
  },
  {
   "cell_type": "code",
   "execution_count": 271,
   "id": "acbcd135",
   "metadata": {},
   "outputs": [],
   "source": [
    "# y"
   ]
  },
  {
   "cell_type": "code",
   "execution_count": 272,
   "id": "af4c6254",
   "metadata": {},
   "outputs": [
    {
     "name": "stdout",
     "output_type": "stream",
     "text": [
      "Global\n",
      "inner\n",
      "Local\n",
      "Global\n"
     ]
    }
   ],
   "source": [
    "x = \"Global\"\n",
    "print(x) #Global\n",
    "def outer():\n",
    "    x = \"Local\"\n",
    "    def inner():\n",
    "        x = \"inner\"\n",
    "        print(x) # inner\n",
    "    inner()\n",
    "    print(x) # Local\n",
    "outer()\n",
    "print(x) # Global"
   ]
  },
  {
   "cell_type": "code",
   "execution_count": 273,
   "id": "1c511a70",
   "metadata": {},
   "outputs": [
    {
     "name": "stdout",
     "output_type": "stream",
     "text": [
      "Global\n",
      "inner\n",
      "inner\n",
      "Global\n"
     ]
    }
   ],
   "source": [
    "x = \"Global\"\n",
    "print(x) #Global\n",
    "def outer():\n",
    "    x = \"Local\"\n",
    "    def inner():\n",
    "        nonlocal x \n",
    "        x = \"inner\"\n",
    "        print(x) # inner\n",
    "    inner()\n",
    "    print(x) # inner\n",
    "outer()\n",
    "print(x) # Global"
   ]
  },
  {
   "cell_type": "code",
   "execution_count": 279,
   "id": "b05072ef",
   "metadata": {},
   "outputs": [
    {
     "name": "stdout",
     "output_type": "stream",
     "text": [
      "Global\n",
      "inner\n",
      "Local\n",
      "Local\n"
     ]
    }
   ],
   "source": [
    "x = \"Global\"\n",
    "print(x) #Global\n",
    "def outer():\n",
    "    global x \n",
    "    x = \"Local\"\n",
    "    def inner():\n",
    "        x = \"inner\"\n",
    "        print(x) # inner\n",
    "    inner()\n",
    "    print(x) # local\n",
    "outer()\n",
    "print(x) # local\n"
   ]
  },
  {
   "cell_type": "code",
   "execution_count": 276,
   "id": "8b72251c",
   "metadata": {},
   "outputs": [],
   "source": []
  },
  {
   "cell_type": "code",
   "execution_count": null,
   "id": "e48c641e",
   "metadata": {},
   "outputs": [],
   "source": []
  }
 ],
 "metadata": {
  "kernelspec": {
   "display_name": "Python 3 (ipykernel)",
   "language": "python",
   "name": "python3"
  },
  "language_info": {
   "codemirror_mode": {
    "name": "ipython",
    "version": 3
   },
   "file_extension": ".py",
   "mimetype": "text/x-python",
   "name": "python",
   "nbconvert_exporter": "python",
   "pygments_lexer": "ipython3",
   "version": "3.10.9"
  }
 },
 "nbformat": 4,
 "nbformat_minor": 5
}
